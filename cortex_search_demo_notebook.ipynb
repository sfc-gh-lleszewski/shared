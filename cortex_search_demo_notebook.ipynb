{
 "metadata": {
  "kernelspec": {
   "display_name": "Streamlit Notebook",
   "name": "streamlit"
  }
 },
 "nbformat_minor": 5,
 "nbformat": 4,
 "cells": [
  {
   "cell_type": "markdown",
   "id": "3775908f-ca36-4846-8f38-5adca39217f2",
   "metadata": {
    "name": "intro"
   },
   "source": "# ❄️ Snowflake Cortex Search ❄️\n\n- A performant, hybrid search engine for unstructured data\n- It unlocks scalable, business-specific LLM apps in Snowflake\n- Is a foundational building block for LLM applications in Snowflake\n"
  },
  {
   "cell_type": "code",
   "id": "f5773174-2ba8-4464-82ad-f37f4ff46641",
   "metadata": {
    "language": "python",
    "name": "Libraries",
    "collapsed": false
   },
   "outputs": [],
   "source": "#Import python packages & establish session\nimport pandas as pd\nfrom PyPDF2 import PdfFileReader\nfrom snowflake.snowpark.files import SnowflakeFile\nfrom io import BytesIO\nfrom snowflake.snowpark.types import StringType, StructField, StructType\nfrom langchain.text_splitter import RecursiveCharacterTextSplitter\n\nfrom snowflake.snowpark.context import get_active_session\nsession = get_active_session()\n",
   "execution_count": null
  },
  {
   "cell_type": "code",
   "id": "bc30a9d2-8b28-4b99-a7f8-a299217b5283",
   "metadata": {
    "language": "sql",
    "name": "View_Resumes",
    "collapsed": false
   },
   "outputs": [],
   "source": "ls @resumes",
   "execution_count": null
  },
  {
   "cell_type": "code",
   "id": "1a6e3e93-9ef3-47bb-8c9c-e8da666e6948",
   "metadata": {
    "language": "python",
    "name": "CreateExtractTextUDF",
    "collapsed": false
   },
   "outputs": [],
   "source": "# Create a Snowpark based function to extract text from PDFs\ndef readpf(file_path):\n    whole_text = \"\"\n    with SnowflakeFile.open(file_path, 'rb') as file:\n        f = BytesIO(file.readall())\n        pdf_reader = PdfFileReader(f)\n        whole_text = \"\"\n        for page in pdf_reader.pages:\n            whole_text += page.extract_text()\n    return whole_text\n",
   "execution_count": null
  },
  {
   "cell_type": "code",
   "id": "5be1bb9d-45f7-4e3c-aace-4d02949b0350",
   "metadata": {
    "language": "python",
    "name": "RegisterUDF",
    "collapsed": false
   },
   "outputs": [],
   "source": "# Register the UDF\n# Convert the cell to markdown to prevent rerunning later\nsession.udf.register(\n    func = readpf\n  , return_type = StringType()\n  , input_types = [StringType()]\n  , is_permanent = True\n  , name = 'SNOWPARK_PDF'\n  , replace = True\n  , packages=['snowflake-snowpark-python','pypdf2']\n  , stage_location = '@resumes'\n)\n",
   "execution_count": null
  },
  {
   "cell_type": "code",
   "id": "74dd4d0c-b00a-483e-a529-28f8a4bf2859",
   "metadata": {
    "language": "sql",
    "name": "CreateResumesTextTable",
    "collapsed": false
   },
   "outputs": [],
   "source": "CREATE OR REPLACE TABLE RESUMES_TEXT AS\nSELECT \n    relative_path, \n    file_url, \n    SNOWPARK_PDF(build_scoped_file_url(@resumes, relative_path)) as RESUMES_TEXT\nfrom directory(@resumes)\nWHERE RELATIVE_PATH like '%pdf';\n",
   "execution_count": null
  },
  {
   "cell_type": "code",
   "id": "dd94ff67-4629-4d61-955e-8cbc0bcae25c",
   "metadata": {
    "language": "sql",
    "name": "ViewResumesTextTable",
    "collapsed": false
   },
   "outputs": [],
   "source": "SELECT * from RESUMES_TEXT;",
   "execution_count": null
  },
  {
   "cell_type": "code",
   "id": "69432563-2509-4414-bf2d-8d8bdb0b8430",
   "metadata": {
    "language": "sql",
    "name": "ViewCleanResumesTextTable",
    "collapsed": false
   },
   "outputs": [],
   "source": "SELECT * from CLEAN_RESUMES_TEXT;",
   "execution_count": null
  },
  {
   "cell_type": "code",
   "id": "15700508-7a91-4b19-8dd9-3fae3f55b80a",
   "metadata": {
    "language": "sql",
    "name": "CreateCortexSearchService",
    "collapsed": false
   },
   "outputs": [],
   "source": "-- Create Cortex Search Service on your Clean_Resumes_Text table\nCREATE OR REPLACE CORTEX SEARCH SERVICE RESUME_SEARCH_SERVICE\n  ON RESUMES_TEXT\n  WAREHOUSE = DATASCIENCECOLLEGE\n  TARGET_LAG = '30 days'\n  AS (\n    SELECT\n        relative_path, \n        file_url,\n        resumes_text\n    FROM CLEAN_RESUMES_TEXT\n);\n",
   "execution_count": null
  },
  {
   "cell_type": "code",
   "id": "acc91612-979f-4c62-93d2-2a0d23ce20ec",
   "metadata": {
    "language": "python",
    "name": "Cortex_Search_Example",
    "collapsed": false
   },
   "outputs": [],
   "source": "from snowflake.snowpark import Session\nfrom snowflake.core import Root\nroot=Root(session)\n\ntranscript_search_service = (root\n  .databases['DATASCIENCECOLLEGE']\n  .schemas['PUBLIC']\n  .cortex_search_services['RESUME_SEARCH_SERVICE']\n)\n\nresp = transcript_search_service.search(\n  query='who is a lead web developer?',\n  columns=['RESUMES_TEXT','file_url'],\n  #filter={\"@eq\": {\"<column>\": \"<value>\"} },\n  limit=3\n)\n#https://docs.snowflake.com/user-guide/snowflake-cortex/cortex-search/query-cortex-search-service\n#Rows where the \"array_col\" column contains \"arr_value\" and the \"string_col\" column equals \"value\":\n#{\n#    \"@and\": [\n#      { \"@contains\": { \"array_col\": \"arr_value\" } },\n#      { \"@eq\": { \"string_col\": \"value\" } }\n#    ]\n\nprint(resp.to_json())\n",
   "execution_count": null
  },
  {
   "cell_type": "code",
   "id": "fed8f59e-2686-45ce-9daf-490b299dbb59",
   "metadata": {
    "language": "python",
    "name": "Cortex_Search_Output",
    "collapsed": false
   },
   "outputs": [],
   "source": "results = resp.results\n\ncontext_str = \"\"\nfor i, r in enumerate(results):\n    context_str += f\"Context document {i+1}: {r['RESUMES_TEXT']}\\n****************\\n\"\n\nprint(context_str)\n",
   "execution_count": null
  },
  {
   "cell_type": "code",
   "id": "afedcb94-13b9-4477-83b3-ec7cbda08862",
   "metadata": {
    "language": "sql",
    "name": "DORA_Evaluation_7a",
    "collapsed": false
   },
   "outputs": [],
   "source": "SHOW CORTEX SEARCH SERVICES STARTS WITH 'RESUME_SEARCH_SERVICE';\n",
   "execution_count": null
  },
  {
   "cell_type": "code",
   "id": "fc9017f7-3d2c-4d47-8dd8-0049e13b444f",
   "metadata": {
    "language": "sql",
    "name": "DORA_Evaluation_7b",
    "collapsed": false
   },
   "outputs": [],
   "source": "select util_db.public.se_grader(step, (actual = expected), actual, expected, description) as graded_results from \n(SELECT 'SEAI20' as step\n,( SELECT COUNT(*) FROM TABLE(RESULT_SCAN(LAST_QUERY_ID()))) as actual\n , 1 as expected\n ,'HOL DORA Evaluation Test #7 IS CORRECT!' as description);\n",
   "execution_count": null
  },
  {
   "cell_type": "code",
   "id": "8dcaf73d-95f7-437e-bb5b-e1e8ce735048",
   "metadata": {
    "language": "python",
    "name": "SaveCortexSearchOutput",
    "collapsed": false
   },
   "outputs": [],
   "source": "df = session.create_dataframe(resp.results)\ndf.create_or_replace_temp_view(\"temp_resumes\")\n",
   "execution_count": null
  },
  {
   "cell_type": "code",
   "id": "6eb4c402-132e-48fd-9209-fb7f2a85c727",
   "metadata": {
    "language": "sql",
    "name": "UseCortexCompleteFunctionForDetaildResponse",
    "collapsed": false
   },
   "outputs": [],
   "source": "SELECT SNOWFLAKE.CORTEX.COMPLETE(\n    'mistral-large',\n        CONCAT(\n            'You are hiring a lead web app developer. Which candidate has the most web app development experience? Critique the candidates in bullet points: <results>',\n            (SELECT LISTAGG(RESUMES_TEXT, ' ') FROM temp_resumes),\n            '</results>'\n        )\n    ) AS CRITIQUE\n    FROM temp_resumes LIMIT 1;\n",
   "execution_count": null
  }
 ]
}